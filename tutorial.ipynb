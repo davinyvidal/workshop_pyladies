{
  "nbformat": 4,
  "nbformat_minor": 0,
  "metadata": {
    "colab": {
      "name": "tutorial.ipynb",
      "version": "0.3.2",
      "provenance": [],
      "include_colab_link": true
    },
    "kernelspec": {
      "name": "python3",
      "display_name": "Python 3"
    }
  },
  "cells": [
    {
      "cell_type": "markdown",
      "metadata": {
        "id": "view-in-github",
        "colab_type": "text"
      },
      "source": [
        "<a href=\"https://colab.research.google.com/github/marixko/workshop_pyladies/blob/master/tutorial.ipynb\" target=\"_parent\"><img src=\"https://colab.research.google.com/assets/colab-badge.svg\" alt=\"Open In Colab\"/></a>"
      ]
    },
    {
      "cell_type": "markdown",
      "metadata": {
        "id": "RbNVcr9Lq_eg",
        "colab_type": "text"
      },
      "source": [
        "# **WORKSHOP INTRODUÇÃO À MACHINE LEARNING**\n",
        "\n",
        "**Autoria**: Lilianne M. I. Nakazono | **Organização**: Pyladies SP | **Local**: FIAP Paulista <br>\n",
        "\n",
        "\n",
        "---\n",
        "\n",
        "\n",
        "\n",
        "Olá meninas!\n",
        "\n",
        "Hoje iremos usar (principalmente) os seguintes pacotes:\n",
        "* [Pandas](https://pandas.pydata.org/) - Leitura a manipulação de dados tabulares \n",
        "* [Seaborn](https://seaborn.pydata.org/) - Visualização de dados \n",
        "* [Sklearn](https://scikit-learn.org/stable/index.html) - Algoritmos de aprendizado de máquina\n",
        "\n",
        "\n",
        "Este arquivo já contém alguns códigos pra facilitar a vida. Rodem todas as células antes de começar a escrever seu próprio código.\n",
        "\n",
        "\n"
      ]
    },
    {
      "cell_type": "markdown",
      "metadata": {
        "id": "iMLKrHGatX3a",
        "colab_type": "text"
      },
      "source": [
        "# 1. Bibliotecas"
      ]
    },
    {
      "cell_type": "code",
      "metadata": {
        "id": "zrkyfqNSuDBY",
        "colab_type": "code",
        "colab": {}
      },
      "source": [
        "# Importando bibliotecas:\n",
        "import matplotlib.pyplot as plt\n",
        "from sklearn.metrics import confusion_matrix\n",
        "from sklearn import datasets\n",
        "import pandas as pd\n",
        "import numpy as np\n",
        "import matplotlib.pyplot as plt \n",
        "import seaborn as sns\n",
        "from sklearn.model_selection import train_test_split\n",
        "from sklearn.svm import SVC\n",
        "from sklearn.ensemble import RandomForestClassifier\n",
        "from sklearn.neighbors import KNeighborsClassifier\n",
        "from sklearn.tree import DecisionTreeClassifier\n",
        "from sklearn.metrics import confusion_matrix\n",
        "import itertools\n",
        "from sklearn import metrics"
      ],
      "execution_count": 0,
      "outputs": []
    },
    {
      "cell_type": "markdown",
      "metadata": {
        "id": "KTzCWgN3xRSu",
        "colab_type": "text"
      },
      "source": [
        "# 2. Funções"
      ]
    },
    {
      "cell_type": "code",
      "metadata": {
        "id": "BQtLqVxRxQdI",
        "colab_type": "code",
        "colab": {}
      },
      "source": [
        "# Definindo funções:\n",
        "def plot_confusion_matrix(cm, classes,\n",
        "                          normalize=False,\n",
        "                          title='Confusion matrix',\n",
        "                          cmap=plt.cm.Blues):\n",
        "    \"\"\"\n",
        "    This function prints and plots the confusion matrix.\n",
        "    Normalization can be applied by setting `normalize=True`.\n",
        "    \"\"\"\n",
        "    if normalize:\n",
        "        cm = cm.astype('float') / cm.sum(axis=1)[:, np.newaxis]\n",
        "        print(\"Normalized confusion matrix\")\n",
        "    else:\n",
        "        print('Confusion matrix, without normalization')\n",
        "\n",
        "    plt.imshow(cm, interpolation='nearest', cmap=cmap)\n",
        "    plt.title(title)\n",
        "    plt.colorbar()\n",
        "    tick_marks = np.arange(len(classes))\n",
        "    plt.xticks(tick_marks, classes, rotation=45)\n",
        "    plt.yticks(tick_marks, classes)\n",
        "\n",
        "    fmt = '.3f' if normalize else 'd'\n",
        "    thresh = cm.max() / 2.\n",
        "    for i, j in itertools.product(range(cm.shape[0]), range(cm.shape[1])):\n",
        "        plt.text(j, i, format(cm[i, j], fmt),\n",
        "                 horizontalalignment=\"center\",\n",
        "                 color=\"white\" if cm[i, j] > thresh else \"black\")\n",
        "\n",
        "    plt.ylabel('True label')\n",
        "    plt.xlabel('Predicted label')\n",
        "    plt.tight_layout()"
      ],
      "execution_count": 0,
      "outputs": []
    },
    {
      "cell_type": "markdown",
      "metadata": {
        "id": "bbBa12Zjxbc_",
        "colab_type": "text"
      },
      "source": [
        "# 3. Leitura de dados"
      ]
    },
    {
      "cell_type": "markdown",
      "metadata": {
        "id": "SzphhyXPxuTw",
        "colab_type": "text"
      },
      "source": [
        "## Iris dataset"
      ]
    },
    {
      "cell_type": "code",
      "metadata": {
        "id": "r-MKvkurxf5b",
        "colab_type": "code",
        "colab": {}
      },
      "source": [
        "target = pd.DataFrame(datasets.load_iris().target, columns=['target'])\n",
        "iris = pd.DataFrame(datasets.load_iris().data, columns=datasets.load_iris().feature_names) "
      ],
      "execution_count": 0,
      "outputs": []
    },
    {
      "cell_type": "markdown",
      "metadata": {
        "id": "jnbBAXPDzQfG",
        "colab_type": "text"
      },
      "source": [
        "# 4. Pré-análise dos dados"
      ]
    },
    {
      "cell_type": "markdown",
      "metadata": {
        "id": "6z3E0BVF4MZ_",
        "colab_type": "text"
      },
      "source": [
        "Imprimir tabela: \n",
        "\n",
        "> `print(iris)`\n",
        "\n",
        "Contagem de linhas para um certo atributo:\n",
        "\n",
        "> `iris.atributo.value_counts()`\n",
        "\n",
        "\n",
        "Tipo dos atributos:\n",
        "\n",
        "> `iris.dtypes`\n",
        "\n",
        "Nome dos atributos (colunas):\n",
        "\n",
        "> `list(iris)`\n",
        "\n",
        "Estatísticas:\n",
        "\n",
        "> `iris.describe().T`\n",
        "\n",
        "Média de um atributo:\n",
        "\n",
        "> `iris.atributo.mean()`\n",
        "\n",
        "Desvio padrão de um atributo:\n",
        "\n",
        "> `iris.atributo.std()`\n",
        "\n",
        "Concatenar linhas/colunas:\n",
        "\n",
        "> `iris.concat()`\n",
        "\n",
        "Checar se tem NaNs:\n",
        "\n",
        "> `iris.isna().sum()`\n",
        "\n",
        "Remover NaNs:\n",
        "\n",
        "> `iris.dropna()`\n",
        "\n",
        "Acessar todas as colunas da linha em posição i: \n",
        "\n",
        "> `iris.iloc[i,:]`\n",
        "\n",
        "Acessar todas as colunas da linha de índice i:\n",
        "\n",
        "> `iris.loc[i,:]`\n",
        "\n",
        "Filtrando tabela:\n",
        "\n",
        "> `iris.query('condição1 & condição2')`\n",
        "\n",
        "\n",
        "> `iris[(condição1) & (condição2)]`\n",
        "\n",
        "Histograma:\n",
        "\n",
        "> `iris.hist()`\n",
        "\n",
        "Pairplot: \n",
        "\n",
        "> `sns.pairplot(data, hue=\"target\")` <br> # data contém uma coluna chamada target com as classes\n",
        "\n",
        "Matriz de correlação:\n",
        "\n",
        "> `iris.corr()`\n",
        "\n",
        "Visualização matriz de correlação:\n",
        "> `sns.heatmap(iris.corr(), cmap='bwr', vmax=1, vmin=-1,center=0, square=True, annot=True)`\n"
      ]
    },
    {
      "cell_type": "markdown",
      "metadata": {
        "id": "DE3Vmm4dzi3Q",
        "colab_type": "text"
      },
      "source": [
        "# 5. Amostragem para validação cruzada"
      ]
    },
    {
      "cell_type": "markdown",
      "metadata": {
        "id": "vSP94CDU8q55",
        "colab_type": "text"
      },
      "source": [
        "Criando amostra de treinamento (70%) e de teste (30%):\n",
        "> `X_train, X_test, y_train, y_test = train_test_split(iris, target,  test_size=0.3, random_state=42)`\n",
        "\n",
        "Para fazer uma amostragem estratificada, adicionar o parâmetro:\n",
        "\n",
        "> `stratify = target`"
      ]
    },
    {
      "cell_type": "markdown",
      "metadata": {
        "id": "V1iXrDUi0D0_",
        "colab_type": "text"
      },
      "source": [
        "# 6. Validação de modelo"
      ]
    },
    {
      "cell_type": "markdown",
      "metadata": {
        "id": "3A5pG0m69yT_",
        "colab_type": "text"
      },
      "source": [
        "## Algoritmos:\n",
        "\n",
        "Eu recomendo fortemente que vocês procurem a documentação de cada algoritmo e deem uma lida nos parâmetros pedidos de cada um! \n",
        "\n",
        "k-Nearest Neighbors: \n",
        "\n",
        "> `clf = KNeighborsClassifier()`\n",
        "\n",
        "Support Vector Machine:\n",
        "\n",
        "> `clf = SVC()`\n",
        "\n",
        "Decision Tree:\n",
        "\n",
        "> `clf = DecisionTreeClassifier()`\n",
        "\n",
        "Random Forest: \n",
        "\n",
        "> `clf = RandomForestClassifier()`\n",
        "\n",
        "## Treinamento do modelo:\n",
        "\n",
        "> `clf.fit(X_train, y_train.values.ravel())`\n",
        "\n",
        "## Teste:\n",
        "\n",
        "> `y_pred = clf.predict(X_test)`\n",
        "\n",
        "## Matriz de confusão: \n",
        "> `matrix = confusion_matrix(y_test, y_pred)`\n",
        "\n",
        "> `fig = plot_confusion_matrix(matrix, classes=['0','1', '2'])`\n",
        "\n",
        "## Métricas de performance:\n",
        "\n",
        "> `metrics.classification_report(y_test, y_pred)`\n"
      ]
    }
  ]
}